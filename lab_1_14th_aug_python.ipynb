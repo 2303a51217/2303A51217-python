{
  "nbformat": 4,
  "nbformat_minor": 0,
  "metadata": {
    "colab": {
      "provenance": []
    },
    "kernelspec": {
      "name": "python3",
      "display_name": "Python 3"
    },
    "language_info": {
      "name": "python"
    }
  },
  "cells": [
    {
      "cell_type": "code",
      "execution_count": 7,
      "metadata": {
        "colab": {
          "base_uri": "https://localhost:8080/"
        },
        "id": "JnFEUkvh0C2T",
        "outputId": "d21203b9-cefa-47d8-bf0b-8b29eaff80f1"
      },
      "outputs": [
        {
          "output_type": "stream",
          "name": "stdout",
          "text": [
            "data  written succeesfully\n"
          ]
        }
      ],
      "source": [
        "fp=open(\"myexample.txt\",\"w\")\n",
        "fp.write(\"batch1 to 6\")\n",
        "fp.write(  \" cse\\n\")\n",
        "fp.write(  \"  sr university\")\n",
        "fp.close()\n",
        "print(\"data  written succeesfully\")\n"
      ]
    },
    {
      "cell_type": "code",
      "source": [
        "fp=open(\"myexample.txt\",\"r\")\n",
        "content=fp.read()\n",
        "print(\"file tech\",content)\n",
        "fp.close()"
      ],
      "metadata": {
        "colab": {
          "base_uri": "https://localhost:8080/"
        },
        "id": "O4nglZnc1mdn",
        "outputId": "98c8d1d7-5b76-42fd-ef52-a18aaa48d50c"
      },
      "execution_count": 8,
      "outputs": [
        {
          "output_type": "stream",
          "name": "stdout",
          "text": [
            "file tech batch1 to 6 cse\n",
            "  sr university\n"
          ]
        }
      ]
    },
    {
      "cell_type": "code",
      "source": [
        "fp=open(\"myexample.txt\",\"r\")\n",
        "line1=fp.readline()\n",
        "#line2=fp.readline()\n",
        "print(\"we have only one  line\\n \",line1)\n",
        "\n",
        "fp.close()"
      ],
      "metadata": {
        "colab": {
          "base_uri": "https://localhost:8080/"
        },
        "id": "fI7Yk0Cd1q8P",
        "outputId": "6574fcad-92ee-402f-d025-be5836f22ecc"
      },
      "execution_count": 9,
      "outputs": [
        {
          "output_type": "stream",
          "name": "stdout",
          "text": [
            "we have only one  line\n",
            "  batch1 to 6 cse\n",
            "\n"
          ]
        }
      ]
    },
    {
      "cell_type": "code",
      "source": [
        "fp=open(\"myexample.txt\",\"r\")\n",
        "line1=fp.readlines()\n",
        "line2=fp.readlines()\n",
        "print(\"all lines\",line1,line2)"
      ],
      "metadata": {
        "colab": {
          "base_uri": "https://localhost:8080/"
        },
        "id": "T22wsI-o1vox",
        "outputId": "e5aa699f-b4e0-4074-e758-661195d2e98d"
      },
      "execution_count": 10,
      "outputs": [
        {
          "output_type": "stream",
          "name": "stdout",
          "text": [
            "all lines ['batch1 to 6 cse\\n', '  sr university'] []\n"
          ]
        }
      ]
    },
    {
      "cell_type": "code",
      "source": [
        "p=open(\"myexample.txt\",\"a\")\n",
        "text=p.write(\"   students result\")\n",
        "print(\"data  written succeesfully\")\n",
        "p.close()"
      ],
      "metadata": {
        "colab": {
          "base_uri": "https://localhost:8080/"
        },
        "id": "WkAdkS6s12mV",
        "outputId": "e500af53-f4c4-4cad-e562-ac96bf09f488"
      },
      "execution_count": 11,
      "outputs": [
        {
          "output_type": "stream",
          "name": "stdout",
          "text": [
            "data  written succeesfully\n"
          ]
        }
      ]
    },
    {
      "cell_type": "code",
      "source": [
        "with open(\"myexample.txt\",\"r\") as fp:\n",
        "    content=fp.read()\n",
        "    print(content)"
      ],
      "metadata": {
        "colab": {
          "base_uri": "https://localhost:8080/"
        },
        "id": "HWRveSuQ2AKj",
        "outputId": "5f292234-c2c8-46ce-bfd6-2ebde4b82d5f"
      },
      "execution_count": 12,
      "outputs": [
        {
          "output_type": "stream",
          "name": "stdout",
          "text": [
            "batch1 to 6 cse\n",
            "  sr university   students result\n"
          ]
        }
      ]
    },
    {
      "cell_type": "code",
      "source": [
        "import csv\n",
        "with open(\"sales.csv\",\"w\",newline=\"\")as fp:\n",
        "  text=csv.writer(fp)\n",
        "  text.writerow([\"name\",\"Age\",\"gender\"])\n",
        "  text.writerow([\"Abhi\",\"23\",\"male\"])\n",
        "  text.writerow([\"anoop\",\"20\",\"female\"])\n",
        "  print(text)"
      ],
      "metadata": {
        "colab": {
          "base_uri": "https://localhost:8080/"
        },
        "id": "IZnZPnTn2Co1",
        "outputId": "998dd748-10ef-49ad-f79a-530994943280"
      },
      "execution_count": 13,
      "outputs": [
        {
          "output_type": "stream",
          "name": "stdout",
          "text": [
            "<_csv.writer object at 0x796937d423e0>\n"
          ]
        }
      ]
    },
    {
      "cell_type": "code",
      "source": [
        "with open(\"sales.csv\",\"r\")as fp:\n",
        "  data=csv.reader(fp)\n",
        "  for row in data:\n",
        "    print(row)"
      ],
      "metadata": {
        "colab": {
          "base_uri": "https://localhost:8080/"
        },
        "id": "BuZcyL6Q2Fpw",
        "outputId": "8dfe70db-ae2c-4e72-9384-4e94d99d19c3"
      },
      "execution_count": 14,
      "outputs": [
        {
          "output_type": "stream",
          "name": "stdout",
          "text": [
            "['name', 'Age', 'gender']\n",
            "['Abhi', '23', 'male']\n",
            "['anoop', '20', 'female']\n"
          ]
        }
      ]
    }
  ]
}